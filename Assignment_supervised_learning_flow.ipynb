{
 "cells": [
  {
   "cell_type": "markdown",
   "id": "ec202ada",
   "metadata": {},
   "source": [
    "# Assignment - Supervised Learning flow"
   ]
  },
  {
   "cell_type": "markdown",
   "id": "b06a2810",
   "metadata": {},
   "source": [
    "# Part 1(a) Student details:\n",
    "* Please write the First-Name, First letter of Last-Name and last 4 digits of the i.d. for each student. "
   ]
  },
  {
   "cell_type": "code",
   "execution_count": 230,
   "id": "ca16486b",
   "metadata": {},
   "outputs": [],
   "source": [
    "# student details 1: David L. 0387\n",
    "# student details 2: Shavit T. 1723"
   ]
  },
  {
   "cell_type": "markdown",
   "id": "abb64166-b32e-4b86-a7ee-84106c8b3a92",
   "metadata": {},
   "source": [
    "## Part 1(b) - Chat-GPT/other AI-agent/other assistance used:\n",
    "* If you changed the prompt until you got a satisfying answer, please add all versions\n",
    "* don't delete \"pre\" tags, so new-line is supported\n",
    "* double click the following markdown cell to change\n",
    "* press shift+enter to view\n",
    "* Add information:"
   ]
  },
  {
   "cell_type": "markdown",
   "id": "ea93f0d3-7aa1-4a95-b084-395f5f7c6c0c",
   "metadata": {},
   "source": [
    "#### Add information in this Markdown cell (double click to change, shift-enter to view)\n",
    "<pre>   \n",
    "AI agent name:\n",
    "Goal:\n",
    "Propmpt1:\n",
    "    \n",
    "Propmpt2:\n",
    "    \n",
    "Propmpt3: \n",
    "\n",
    "\n",
    "AI agent name 2:\n",
    "Goal:\n",
    "Propmpt1:\n",
    "    \n",
    "Propmpt2:\n",
    "    \n",
    "Propmpt3: \n",
    "\n",
    "Other assistanse:    \n",
    "</pre>"
   ]
  },
  {
   "cell_type": "markdown",
   "id": "0e4fbaab-e5a5-40ed-be0f-9a2cb7931a4b",
   "metadata": {},
   "source": [
    "## Part 1(c) - Learning Problem and dataset explaination.\n",
    "* Please explain in one paragraph\n",
    "* don't delete \"pre\" tags, so new-line is supported\n",
    "* double click the following markdown cell to change\n",
    "* press shift+enter to view\n",
    "* Add explaining text:"
   ]
  },
  {
   "cell_type": "markdown",
   "id": "dd8565df-2778-4b89-83bd-6b227063789f",
   "metadata": {},
   "source": [
    "#### Add information in this Markdown cell (double click to change, shift-enter to view)\n",
    "<pre>\n",
    "We received a dataset describing passengers of the Titanic, where each record represents a passenger with personal attributes such as age, gender, travel class, number of Number of siblings or spouse, ticket price, and point of embarkation. The learning problem is a classification task, aiming to predict whether a passenger survived the sinking (Survived) or not. \n",
    "The target variable is binary (1 = survived, 0 = not survived), and the goal is to build a model that can identify patterns and relationships between passenger profiles and their chances of survival.\n",
    "</pre>"
   ]
  },
  {
   "cell_type": "markdown",
   "id": "df67c2ee-87c8-499c-a04f-1853c332f51d",
   "metadata": {},
   "source": [
    "## Part 2 - Initial Preparations \n",
    "You could add as many code cells as needed"
   ]
  },
  {
   "cell_type": "code",
   "execution_count": 231,
   "id": "b29b3454-b568-4614-8017-f15b3c59fc55",
   "metadata": {},
   "outputs": [],
   "source": [
    "# Import necessary libraries\n",
    "import pandas as pd \n",
    "import matplotlib.pyplot as plt\n",
    "import seaborn as sns\n",
    "import numpy as np\n",
    "\n",
    "from sklearn.model_selection import StratifiedKFold\n",
    "from sklearn.preprocessing import StandardScaler\n",
    "from sklearn.linear_model import LogisticRegression\n",
    "from sklearn.ensemble import RandomForestClassifier\n",
    "from sklearn.metrics import f1_score, classification_report, confusion_matrix\n",
    "\n",
    "\n",
    "# Load the datasets from a CSV files\n",
    "df_train = pd.read_csv('./datasets/titanic_train.csv') \n",
    "df_test = pd.read_csv('./datasets/titanic_test.csv') "
   ]
  },
  {
   "cell_type": "code",
   "execution_count": 232,
   "id": "4b47fe56-d611-4b28-be92-673db4d56400",
   "metadata": {},
   "outputs": [
    {
     "data": {
      "text/html": [
       "<div>\n",
       "<style scoped>\n",
       "    .dataframe tbody tr th:only-of-type {\n",
       "        vertical-align: middle;\n",
       "    }\n",
       "\n",
       "    .dataframe tbody tr th {\n",
       "        vertical-align: top;\n",
       "    }\n",
       "\n",
       "    .dataframe thead th {\n",
       "        text-align: right;\n",
       "    }\n",
       "</style>\n",
       "<table border=\"1\" class=\"dataframe\">\n",
       "  <thead>\n",
       "    <tr style=\"text-align: right;\">\n",
       "      <th></th>\n",
       "      <th>Pclass</th>\n",
       "      <th>Sex</th>\n",
       "      <th>Age</th>\n",
       "      <th>SibSp</th>\n",
       "      <th>Parch</th>\n",
       "      <th>Fare</th>\n",
       "      <th>Embarked</th>\n",
       "      <th>Survived</th>\n",
       "    </tr>\n",
       "  </thead>\n",
       "  <tbody>\n",
       "    <tr>\n",
       "      <th>0</th>\n",
       "      <td>1</td>\n",
       "      <td>0</td>\n",
       "      <td>54.0</td>\n",
       "      <td>1</td>\n",
       "      <td>0</td>\n",
       "      <td>78.2667</td>\n",
       "      <td>1</td>\n",
       "      <td>1</td>\n",
       "    </tr>\n",
       "    <tr>\n",
       "      <th>1</th>\n",
       "      <td>2</td>\n",
       "      <td>0</td>\n",
       "      <td>45.0</td>\n",
       "      <td>0</td>\n",
       "      <td>0</td>\n",
       "      <td>13.5000</td>\n",
       "      <td>0</td>\n",
       "      <td>1</td>\n",
       "    </tr>\n",
       "    <tr>\n",
       "      <th>2</th>\n",
       "      <td>3</td>\n",
       "      <td>1</td>\n",
       "      <td>20.0</td>\n",
       "      <td>0</td>\n",
       "      <td>0</td>\n",
       "      <td>9.5000</td>\n",
       "      <td>0</td>\n",
       "      <td>0</td>\n",
       "    </tr>\n",
       "    <tr>\n",
       "      <th>3</th>\n",
       "      <td>3</td>\n",
       "      <td>1</td>\n",
       "      <td>36.0</td>\n",
       "      <td>0</td>\n",
       "      <td>0</td>\n",
       "      <td>7.8958</td>\n",
       "      <td>0</td>\n",
       "      <td>0</td>\n",
       "    </tr>\n",
       "    <tr>\n",
       "      <th>4</th>\n",
       "      <td>3</td>\n",
       "      <td>1</td>\n",
       "      <td>22.0</td>\n",
       "      <td>0</td>\n",
       "      <td>0</td>\n",
       "      <td>8.0500</td>\n",
       "      <td>0</td>\n",
       "      <td>0</td>\n",
       "    </tr>\n",
       "  </tbody>\n",
       "</table>\n",
       "</div>"
      ],
      "text/plain": [
       "   Pclass  Sex   Age  SibSp  Parch     Fare  Embarked  Survived\n",
       "0       1    0  54.0      1      0  78.2667         1         1\n",
       "1       2    0  45.0      0      0  13.5000         0         1\n",
       "2       3    1  20.0      0      0   9.5000         0         0\n",
       "3       3    1  36.0      0      0   7.8958         0         0\n",
       "4       3    1  22.0      0      0   8.0500         0         0"
      ]
     },
     "execution_count": 232,
     "metadata": {},
     "output_type": "execute_result"
    }
   ],
   "source": [
    "# Display the first 5 rows of the training dataset\n",
    "df_train.head()"
   ]
  },
  {
   "cell_type": "code",
   "execution_count": 233,
   "id": "53e27610-b640-4db0-80c9-789b5f5fae58",
   "metadata": {},
   "outputs": [
    {
     "data": {
      "text/html": [
       "<div>\n",
       "<style scoped>\n",
       "    .dataframe tbody tr th:only-of-type {\n",
       "        vertical-align: middle;\n",
       "    }\n",
       "\n",
       "    .dataframe tbody tr th {\n",
       "        vertical-align: top;\n",
       "    }\n",
       "\n",
       "    .dataframe thead th {\n",
       "        text-align: right;\n",
       "    }\n",
       "</style>\n",
       "<table border=\"1\" class=\"dataframe\">\n",
       "  <thead>\n",
       "    <tr style=\"text-align: right;\">\n",
       "      <th></th>\n",
       "      <th>Pclass</th>\n",
       "      <th>Sex</th>\n",
       "      <th>Age</th>\n",
       "      <th>SibSp</th>\n",
       "      <th>Parch</th>\n",
       "      <th>Fare</th>\n",
       "      <th>Embarked</th>\n",
       "      <th>Survived</th>\n",
       "    </tr>\n",
       "  </thead>\n",
       "  <tbody>\n",
       "    <tr>\n",
       "      <th>0</th>\n",
       "      <td>3</td>\n",
       "      <td>1</td>\n",
       "      <td>35.000000</td>\n",
       "      <td>0</td>\n",
       "      <td>0</td>\n",
       "      <td>7.0500</td>\n",
       "      <td>0</td>\n",
       "      <td>0</td>\n",
       "    </tr>\n",
       "    <tr>\n",
       "      <th>1</th>\n",
       "      <td>3</td>\n",
       "      <td>1</td>\n",
       "      <td>30.000000</td>\n",
       "      <td>0</td>\n",
       "      <td>0</td>\n",
       "      <td>7.2500</td>\n",
       "      <td>0</td>\n",
       "      <td>0</td>\n",
       "    </tr>\n",
       "    <tr>\n",
       "      <th>2</th>\n",
       "      <td>3</td>\n",
       "      <td>1</td>\n",
       "      <td>29.699118</td>\n",
       "      <td>0</td>\n",
       "      <td>0</td>\n",
       "      <td>14.5000</td>\n",
       "      <td>0</td>\n",
       "      <td>0</td>\n",
       "    </tr>\n",
       "    <tr>\n",
       "      <th>3</th>\n",
       "      <td>3</td>\n",
       "      <td>0</td>\n",
       "      <td>21.000000</td>\n",
       "      <td>0</td>\n",
       "      <td>0</td>\n",
       "      <td>7.7500</td>\n",
       "      <td>2</td>\n",
       "      <td>0</td>\n",
       "    </tr>\n",
       "    <tr>\n",
       "      <th>4</th>\n",
       "      <td>3</td>\n",
       "      <td>1</td>\n",
       "      <td>32.000000</td>\n",
       "      <td>0</td>\n",
       "      <td>0</td>\n",
       "      <td>56.4958</td>\n",
       "      <td>0</td>\n",
       "      <td>1</td>\n",
       "    </tr>\n",
       "  </tbody>\n",
       "</table>\n",
       "</div>"
      ],
      "text/plain": [
       "   Pclass  Sex        Age  SibSp  Parch     Fare  Embarked  Survived\n",
       "0       3    1  35.000000      0      0   7.0500         0         0\n",
       "1       3    1  30.000000      0      0   7.2500         0         0\n",
       "2       3    1  29.699118      0      0  14.5000         0         0\n",
       "3       3    0  21.000000      0      0   7.7500         2         0\n",
       "4       3    1  32.000000      0      0  56.4958         0         1"
      ]
     },
     "execution_count": 233,
     "metadata": {},
     "output_type": "execute_result"
    }
   ],
   "source": [
    "# Display the first 5 rows of the test dataset\n",
    "df_test.head()"
   ]
  },
  {
   "cell_type": "code",
   "execution_count": 234,
   "id": "44eb940f",
   "metadata": {},
   "outputs": [],
   "source": [
    "#round the Age columns to the nearest integer \n",
    "df_train['Age'] = df_train['Age'].round()\n",
    "df_test['Age'] = df_test['Age'].round()\n",
    "\n",
    "#round the Fare columns to the one decimal place\n",
    "df_train['Fare'] = df_train['Fare'].round(1)\n",
    "df_test['Fare'] = df_test['Fare'].round(1)\n"
   ]
  },
  {
   "cell_type": "code",
   "execution_count": 235,
   "id": "013a6198",
   "metadata": {},
   "outputs": [
    {
     "data": {
      "image/png": "[encoded data removed]",
      "text/plain": [
       "<Figure size 600x400 with 1 Axes>"
      ]
     },
     "metadata": {},
     "output_type": "display_data"
    }
   ],
   "source": [
    "# --- Product 1: Target distribution (Survived) ---\n",
    "survival_rate = df_train[\"Survived\"].value_counts(normalize=True) * 100\n",
    "\n",
    "plt.figure(figsize=(6,4))\n",
    "sns.barplot(\n",
    "    x=survival_rate.index, \n",
    "    y=survival_rate.values, \n",
    "    hue=survival_rate.index, \n",
    "    legend=False, \n",
    "    palette=\"Set2\"\n",
    ")\n",
    "plt.title(\"Survival Rate (%)\")\n",
    "plt.ylabel(\"Percentage\")\n",
    "plt.xlabel(\"Survived (0=No, 1=Yes)\")\n",
    "plt.show()\n",
    "# Flow stage:  Outcome Analysis – checking class distribution before feature analysis.\n",
    "# Purpose:  Understand the balance of the target variable (Survived)."
   ]
  },
  {
   "cell_type": "code",
   "execution_count": 236,
   "id": "1ea1dd76",
   "metadata": {},
   "outputs": [
    {
     "data": {
      "image/png": "[encoded data removed]",
      "text/plain": [
       "<Figure size 640x480 with 2 Axes>"
      ]
     },
     "metadata": {},
     "output_type": "display_data"
    }
   ],
   "source": [
    "# ---------- (1) Correlation heatmap for numeric features ----------\n",
    "num_cols = df_train.select_dtypes(include=[np.number]).columns.tolist()\n",
    "corr = df_train[num_cols].corr()\n",
    "\n",
    "plt.figure()\n",
    "im = plt.imshow(corr, aspect=\"auto\")\n",
    "plt.title(\"Numeric Features – Correlation Heatmap\")\n",
    "plt.colorbar(im, fraction=0.046, pad=0.04)\n",
    "plt.xticks(ticks=range(len(num_cols)), labels=num_cols, ha=\"right\")\n",
    "plt.yticks(ticks=range(len(num_cols)), labels=num_cols)\n",
    "plt.tight_layout()\n",
    "plt.show()\n",
    "# Purpose: show linear relationships between numeric features and the target (Survived)\n",
    "# Flow stage: feature analysis / relationship inspection"
   ]
  },
  {
   "cell_type": "code",
   "execution_count": 237,
   "id": "f76b3627",
   "metadata": {},
   "outputs": [
    {
     "data": {
      "image/png": "[encoded data removed]",
      "text/plain": [
       "<Figure size 640x480 with 1 Axes>"
      ]
     },
     "metadata": {},
     "output_type": "display_data"
    }
   ],
   "source": [
    "# --- Product 3: Age distribution ---\n",
    "df_train[\"Age\"].dropna().plot(kind=\"hist\", bins=20)\n",
    "plt.title(\"Age Distribution\")\n",
    "plt.xlabel(\"Age\")\n",
    "plt.ylabel(\"Frequency\")\n",
    "plt.show()\n",
    "# Flow stage: Feature engineering / analyzing continuous variables\n",
    "# Purpose: Explore the spread of ages, detect skewness or missing values,\n",
    "#          and prepare for imputation or binning if needed"
   ]
  },
  {
   "cell_type": "code",
   "execution_count": 238,
   "id": "03a6d353",
   "metadata": {},
   "outputs": [
    {
     "data": {
      "image/png": "[encoded data removed]",
      "text/plain": [
       "<Figure size 600x400 with 1 Axes>"
      ]
     },
     "metadata": {},
     "output_type": "display_data"
    }
   ],
   "source": [
    "# Boxplot of Age by Survival (fixed for seaborn>=0.14)\n",
    "plt.figure(figsize=(6,4))\n",
    "sns.boxplot(\n",
    "    x=\"Survived\", \n",
    "    y=\"Age\", \n",
    "    data=df_train, \n",
    "    hue=\"Survived\", \n",
    "    legend=False, \n",
    "    palette=\"Set2\"\n",
    ")\n",
    "\n",
    "plt.title(\"Age Distribution by Survival\")\n",
    "plt.xlabel(\"Survived (0=No, 1=Yes)\")\n",
    "plt.ylabel(\"Age\")\n",
    "plt.show()"
   ]
  },
  {
   "cell_type": "markdown",
   "id": "fb36672a",
   "metadata": {},
   "source": [
    "## Part 3 - Experiments\n",
    "You could add as many code cells as needed"
   ]
  },
  {
   "cell_type": "code",
   "execution_count": 239,
   "id": "d0041d9d",
   "metadata": {},
   "outputs": [
    {
     "name": "stdout",
     "output_type": "stream",
     "text": [
      "[Info] Using numeric features (7): ['Pclass', 'Sex', 'Age', 'SibSp', 'Parch', 'Fare', 'Embarked']\n"
     ]
    }
   ],
   "source": [
    "# ---------------------------------------------------------\n",
    "# 2) Select numeric features (all numeric columns except target)\n",
    "# ---------------------------------------------------------\n",
    "numeric_cols = df_train.drop(columns=[\"Survived\"]).select_dtypes(include=[np.number]).columns.tolist()\n",
    "X_train = df_train[numeric_cols].copy()\n",
    "y_train = df_train[\"Survived\"].astype(int)\n",
    "X_test  = df_test[numeric_cols].copy()\n",
    "y_test  = df_test[\"Survived\"].astype(int)\n",
    "\n",
    "print(f\"[Info] Using numeric features ({len(numeric_cols)}): {numeric_cols}\")"
   ]
  },
  {
   "cell_type": "code",
   "execution_count": 240,
   "id": "b7098585",
   "metadata": {},
   "outputs": [],
   "source": [
    "# ---------------------------------------------------------\n",
    "# 3) Define search spaces\n",
    "# ---------------------------------------------------------\n",
    "scale_options = [False, True]\n",
    "\n",
    "lr_C_values = [0.5, 1.0]\n",
    "lr_class_weights = [None, \"balanced\"]\n",
    "\n",
    "rf_n_estimators = [200, 400]\n",
    "rf_max_depths   = [None, 8]"
   ]
  },
  {
   "cell_type": "code",
   "execution_count": 241,
   "id": "097afb02",
   "metadata": {},
   "outputs": [
    {
     "name": "stdout",
     "output_type": "stream",
     "text": [
      "\n",
      "=== PART 3: CROSS-VALIDATION RESULTS (sorted by Mean_F1) ===\n",
      "   Alg  Scale  LR_C LR_class_weight  RF_n_estimators  RF_max_depth   Mean_F1  \\\n",
      "0   RF   True   NaN             NaN            200.0           8.0  0.760589   \n",
      "1   RF  False   NaN             NaN            200.0           8.0  0.760407   \n",
      "2   RF   True   NaN             NaN            400.0           8.0  0.752964   \n",
      "3   RF  False   NaN             NaN            400.0           8.0  0.750490   \n",
      "4   LR  False   1.0        balanced              NaN           NaN  0.742522   \n",
      "5   LR  False   0.5        balanced              NaN           NaN  0.741689   \n",
      "6   LR   True   1.0        balanced              NaN           NaN  0.740280   \n",
      "7   LR   True   0.5        balanced              NaN           NaN  0.738166   \n",
      "8   RF   True   NaN             NaN            200.0           NaN  0.733976   \n",
      "9   RF  False   NaN             NaN            200.0           NaN  0.733651   \n",
      "10  RF   True   NaN             NaN            400.0           NaN  0.733132   \n",
      "11  RF  False   NaN             NaN            400.0           NaN  0.731756   \n",
      "12  LR  False   0.5            None              NaN           NaN  0.728973   \n",
      "13  LR  False   1.0            None              NaN           NaN  0.724018   \n",
      "14  LR   True   1.0            None              NaN           NaN  0.723109   \n",
      "15  LR   True   0.5            None              NaN           NaN  0.723109   \n",
      "\n",
      "      Std_F1  \n",
      "0   0.032131  \n",
      "1   0.031192  \n",
      "2   0.032119  \n",
      "3   0.029721  \n",
      "4   0.025433  \n",
      "5   0.025309  \n",
      "6   0.021413  \n",
      "7   0.023592  \n",
      "8   0.027834  \n",
      "9   0.026579  \n",
      "10  0.033212  \n",
      "11  0.032042  \n",
      "12  0.048961  \n",
      "13  0.045183  \n",
      "14  0.044694  \n",
      "15  0.044694  \n"
     ]
    }
   ],
   "source": [
    "# ---------------------------------------------------------\n",
    "# 4) 5-Fold Stratified CV across the full grid (nested loops)\n",
    "# ---------------------------------------------------------\n",
    "cv = StratifiedKFold(n_splits=5, shuffle=True, random_state=42)\n",
    "rows = []\n",
    "\n",
    "def evaluate_config(model, apply_scaling):\n",
    "    \"\"\"Return mean F1 and std F1 across 5 CV folds for the given model and scaling flag.\"\"\"\n",
    "    f1_scores = []\n",
    "    for tr_idx, val_idx in cv.split(X_train, y_train):\n",
    "        Xtr_fold = X_train.iloc[tr_idx].values\n",
    "        Xval_fold = X_train.iloc[val_idx].values\n",
    "        ytr_fold = y_train.iloc[tr_idx].values\n",
    "        yval_fold = y_train.iloc[val_idx].values\n",
    "\n",
    "        if apply_scaling:\n",
    "            scaler = StandardScaler()\n",
    "            Xtr_fold = scaler.fit_transform(Xtr_fold)  # fit on training fold only\n",
    "            Xval_fold = scaler.transform(Xval_fold)    # transform validation fold\n",
    "\n",
    "        model.fit(Xtr_fold, ytr_fold)\n",
    "        yval_pred = model.predict(Xval_fold)\n",
    "        f1_scores.append(f1_score(yval_fold, yval_pred))\n",
    "\n",
    "    return float(np.mean(f1_scores)), float(np.std(f1_scores))\n",
    "\n",
    "# ---- LR branch (nested loops) ----\n",
    "for scale_flag in scale_options:\n",
    "    for C_val in lr_C_values:\n",
    "        for cw in lr_class_weights:\n",
    "            lr = LogisticRegression(\n",
    "                max_iter=1000,\n",
    "                C=C_val,\n",
    "                class_weight=cw,\n",
    "                penalty=\"l2\",\n",
    "                solver=\"lbfgs\",\n",
    "            )\n",
    "            mean_f1, std_f1 = evaluate_config(lr, scale_flag)\n",
    "            rows.append({\n",
    "                \"Alg\": \"LR\",\n",
    "                \"Scale\": scale_flag,\n",
    "                \"LR_C\": C_val,\n",
    "                \"LR_class_weight\": cw,\n",
    "                \"RF_n_estimators\": np.nan,\n",
    "                \"RF_max_depth\": np.nan,\n",
    "                \"Mean_F1\": mean_f1,\n",
    "                \"Std_F1\": std_f1,\n",
    "            })\n",
    "\n",
    "# ---- RF branch (nested loops) ----\n",
    "for scale_flag in scale_options:\n",
    "    for n_est in rf_n_estimators:\n",
    "        for md in rf_max_depths:\n",
    "            rf = RandomForestClassifier(\n",
    "                n_estimators=n_est,\n",
    "                max_depth=md,\n",
    "                random_state=42\n",
    "            )\n",
    "            mean_f1, std_f1 = evaluate_config(rf, scale_flag)\n",
    "            rows.append({\n",
    "                \"Alg\": \"RF\",\n",
    "                \"Scale\": scale_flag,\n",
    "                \"LR_C\": np.nan,\n",
    "                \"LR_class_weight\": np.nan,\n",
    "                \"RF_n_estimators\": n_est,\n",
    "                \"RF_max_depth\": md,\n",
    "                \"Mean_F1\": mean_f1,\n",
    "                \"Std_F1\": std_f1,\n",
    "            })\n",
    "\n",
    "# Summarize CV\n",
    "df_cv = pd.DataFrame(rows).sort_values(by=\"Mean_F1\", ascending=False).reset_index(drop=True)\n",
    "print(\"\\n=== PART 3: CROSS-VALIDATION RESULTS (sorted by Mean_F1) ===\")\n",
    "print(df_cv)"
   ]
  },
  {
   "cell_type": "markdown",
   "id": "67d97f11",
   "metadata": {},
   "source": [
    "## Part 4 - Training \n",
    "Use the best combination of feature engineering, model (algorithm and hyperparameters) from the experiment part (part 3)"
   ]
  },
  {
   "cell_type": "code",
   "execution_count": 242,
   "id": "93713ead",
   "metadata": {},
   "outputs": [
    {
     "name": "stdout",
     "output_type": "stream",
     "text": [
      "\n",
      "=== BEST PERMUTATION ===\n",
      "{'Alg': 'RF', 'Scale': True, 'LR_C': nan, 'LR_class_weight': nan, 'RF_n_estimators': 200.0, 'RF_max_depth': 8.0, 'Mean_F1': 0.7605886147395582, 'Std_F1': 0.0321314649708378}\n",
      "\n",
      "[Part 4] Training completed on FULL train with the best permutation.\n"
     ]
    }
   ],
   "source": [
    "# -------------------------------\n",
    "# Part 4: Retrain best on FULL train (same feature engineering)\n",
    "# -------------------------------\n",
    "best = df_cv.iloc[0].to_dict()\n",
    "print(f\"\\n=== BEST PERMUTATION ===\\n{best}\")\n",
    "\n",
    "best_alg   = best[\"Alg\"]\n",
    "best_scale = bool(best[\"Scale\"])\n",
    "\n",
    "if best_alg == \"LR\":\n",
    "    best_model = LogisticRegression(\n",
    "        max_iter=1000,\n",
    "        C=float(best[\"LR_C\"]),\n",
    "        class_weight=None if pd.isna(best[\"LR_class_weight\"]) else best[\"LR_class_weight\"],\n",
    "        penalty=\"l2\",\n",
    "        solver=\"lbfgs\",\n",
    "    )\n",
    "else:\n",
    "    best_model = RandomForestClassifier(\n",
    "        n_estimators=int(best[\"RF_n_estimators\"]),\n",
    "        max_depth=None if pd.isna(best[\"RF_max_depth\"]) else int(best[\"RF_max_depth\"]),\n",
    "        random_state=42\n",
    "    )\n",
    "\n",
    "# Apply scaling on FULL train if required\n",
    "if best_scale:\n",
    "    final_scaler = StandardScaler()\n",
    "    Xtr_used = final_scaler.fit_transform(X_train.values)\n",
    "    Xte_used = final_scaler.transform(X_test.values)\n",
    "else:\n",
    "    Xtr_used = X_train.values\n",
    "    Xte_used = X_test.values\n",
    "\n",
    "best_model.fit(Xtr_used, y_train.values)\n",
    "print(\"\\n[Part 4] Training completed on FULL train with the best permutation.\")\n"
   ]
  },
  {
   "cell_type": "markdown",
   "id": "259ab902",
   "metadata": {},
   "source": [
    "## Part 5 - Apply on test and show model performance estimation"
   ]
  },
  {
   "cell_type": "code",
   "execution_count": 243,
   "id": "d9971aa5",
   "metadata": {},
   "outputs": [
    {
     "name": "stdout",
     "output_type": "stream",
     "text": [
      "\n",
      "[Part 5] First 5 test predictions:\n",
      "    Survived_true  Survived_pred\n",
      "0              0              0\n",
      "1              0              0\n",
      "2              0              0\n",
      "3              0              1\n",
      "4              1              1\n",
      "\n",
      "=== TEST SET EVALUATION ===\n",
      "F1(test): 0.8173913043478261\n",
      "\n",
      "Classification report:\n",
      "               precision    recall  f1-score   support\n",
      "\n",
      "           0      0.888     0.941     0.914       118\n",
      "           1      0.870     0.770     0.817        61\n",
      "\n",
      "    accuracy                          0.883       179\n",
      "   macro avg      0.879     0.856     0.865       179\n",
      "weighted avg      0.882     0.883     0.881       179\n",
      "\n",
      "Confusion matrix:\n",
      " [[111   7]\n",
      " [ 14  47]]\n"
     ]
    }
   ],
   "source": [
    "# -------------------------------\n",
    "# Part 5: Predict on test + quality report\n",
    "# -------------------------------\n",
    "y_test_pred = best_model.predict(Xte_used)\n",
    "\n",
    "# Show first 5 predictions vs truth\n",
    "preview = pd.DataFrame({\n",
    "    \"Survived_true\": y_test.values,\n",
    "    \"Survived_pred\": y_test_pred\n",
    "}).head(5)\n",
    "print(\"\\n[Part 5] First 5 test predictions:\\n\", preview)\n",
    "\n",
    "# Metrics\n",
    "print(\"\\n=== TEST SET EVALUATION ===\")\n",
    "print(\"F1(test):\", f1_score(y_test, y_test_pred))\n",
    "print(\"\\nClassification report:\\n\", classification_report(y_test, y_test_pred, digits=3))\n",
    "print(\"Confusion matrix:\\n\", confusion_matrix(y_test, y_test_pred))"
   ]
  }
 ],
 "metadata": {
  "kernelspec": {
   "display_name": "Python 3 (ipykernel)",
   "language": "python",
   "name": "python3"
  },
  "language_info": {
   "codemirror_mode": {
    "name": "ipython",
    "version": 3
   },
   "file_extension": ".py",
   "mimetype": "text/x-python",
   "name": "python",
   "nbconvert_exporter": "python",
   "pygments_lexer": "ipython3",
   "version": "3.11.9"
  },
  "widgets": {
   "application/vnd.jupyter.widget-state+json": {
    "state": {},
    "version_major": 2,
    "version_minor": 0
   }
  }
 },
 "nbformat": 4,
 "nbformat_minor": 5
}
